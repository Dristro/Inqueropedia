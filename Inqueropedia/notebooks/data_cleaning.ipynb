{
 "cells": [
  {
   "cell_type": "markdown",
   "id": "a2af58e9-4e4e-455c-8e0f-694c89ad3553",
   "metadata": {
    "id": "a2af58e9-4e4e-455c-8e0f-694c89ad3553"
   },
   "source": [
    "# Data manipulation"
   ]
  },
  {
   "cell_type": "code",
   "execution_count": 1,
   "id": "40bf3fdf-0aab-4fe3-9fbb-7ae74a432f5e",
   "metadata": {
    "id": "40bf3fdf-0aab-4fe3-9fbb-7ae74a432f5e"
   },
   "outputs": [],
   "source": [
    "### All imports\n",
    "import torch\n",
    "from torch import nn\n",
    "import matplotlib.pyplot as plt\n",
    "import pandas as pd\n",
    "import numpy as np\n",
    "#import"
   ]
  },
  {
   "cell_type": "markdown",
   "id": "83dfe482-7aa4-4f83-945c-2ab85c5ec84e",
   "metadata": {
    "id": "83dfe482-7aa4-4f83-945c-2ab85c5ec84e",
    "jp-MarkdownHeadingCollapsed": true
   },
   "source": [
    "## Get data"
   ]
  },
  {
   "cell_type": "code",
   "execution_count": 2,
   "id": "9ca9a8a4-642a-4cb2-836c-d6b230d23de9",
   "metadata": {
    "id": "9ca9a8a4-642a-4cb2-836c-d6b230d23de9"
   },
   "outputs": [],
   "source": [
    "### Setup dataset viarables and methods for data import\n",
    "import os\n",
    "current_dir = os.getcwd()\n",
    "data_dir = os.path.join(os.path.dirname(current_dir), \"datasets\", \"plain_text_wikipedia\", \"AllCombined.txt\")  # Path to all data\n",
    "colab_path = \"/content/datasets/plain_text_wikipedia/AllCombined.txt\"\n",
    "\n",
    "def get_lines(file_path):\n",
    "    \"\"\"\n",
    "    Args:\n",
    "        file_path: path to file (.txt file only)\n",
    "    Returns:\n",
    "        all the lines found in given file\n",
    "    \"\"\"\n",
    "    with open(file_path, \"r\") as f:\n",
    "        return f.readlines()"
   ]
  },
  {
   "cell_type": "code",
   "execution_count": 3,
   "id": "dd52d711-265a-4eb8-841a-b07a3dd56ad4",
   "metadata": {
    "colab": {
     "base_uri": "https://localhost:8080/"
    },
    "id": "dd52d711-265a-4eb8-841a-b07a3dd56ad4",
    "outputId": "e0c38065-43a4-42b0-dd5c-611616b2cef6"
   },
   "outputs": [
    {
     "name": "stdout",
     "output_type": "stream",
     "text": [
      "Random line from the dataset:\n",
      "Some people say that art is a product or item that is made with the intention of stimulating the human senses as well as the human mind, spirit and soul. An artwork is normally judged by how much impact it has on people, the number of people who can relate to it, and how much they appreciate it. Some people also get inspired.\n",
      "\n",
      "Number of lines: 2052699\n"
     ]
    }
   ],
   "source": [
    "### Importing and storing the data into a variable\n",
    "# all_data = get_lines(colab_path)\n",
    "all_data = get_lines(data_dir)\n",
    "print(f\"Random line from the dataset:\\n{all_data[60]}\")  # Fixed position to 60 | many times the line is \"\\n\"\n",
    "print(f\"Number of lines: {len(all_data)}\")"
   ]
  },
  {
   "cell_type": "markdown",
   "id": "mNFhybnv81nA",
   "metadata": {
    "id": "mNFhybnv81nA"
   },
   "source": [
    "## Getting the data ready"
   ]
  },
  {
   "cell_type": "markdown",
   "id": "a7ad9b9a-43de-40c9-aea9-8a030af91b8f",
   "metadata": {
    "jp-MarkdownHeadingCollapsed": true
   },
   "source": [
    "### Create a df for the lines"
   ]
  },
  {
   "cell_type": "code",
   "execution_count": 4,
   "id": "022aa8a8-7a29-4dc4-b594-d05a804fdfa6",
   "metadata": {},
   "outputs": [
    {
     "data": {
      "text/html": [
       "<div>\n",
       "<style scoped>\n",
       "    .dataframe tbody tr th:only-of-type {\n",
       "        vertical-align: middle;\n",
       "    }\n",
       "\n",
       "    .dataframe tbody tr th {\n",
       "        vertical-align: top;\n",
       "    }\n",
       "\n",
       "    .dataframe thead th {\n",
       "        text-align: right;\n",
       "    }\n",
       "</style>\n",
       "<table border=\"1\" class=\"dataframe\">\n",
       "  <thead>\n",
       "    <tr style=\"text-align: right;\">\n",
       "      <th></th>\n",
       "      <th>text</th>\n",
       "      <th>word_count</th>\n",
       "    </tr>\n",
       "  </thead>\n",
       "  <tbody>\n",
       "    <tr>\n",
       "      <th>0</th>\n",
       "      <td>\\n</td>\n",
       "      <td>0</td>\n",
       "    </tr>\n",
       "    <tr>\n",
       "      <th>1</th>\n",
       "      <td>April\\n</td>\n",
       "      <td>1</td>\n",
       "    </tr>\n",
       "    <tr>\n",
       "      <th>2</th>\n",
       "      <td>\\n</td>\n",
       "      <td>0</td>\n",
       "    </tr>\n",
       "    <tr>\n",
       "      <th>3</th>\n",
       "      <td>April (Apr.) is the fourth month of the year i...</td>\n",
       "      <td>31</td>\n",
       "    </tr>\n",
       "    <tr>\n",
       "      <th>4</th>\n",
       "      <td>\\n</td>\n",
       "      <td>0</td>\n",
       "    </tr>\n",
       "  </tbody>\n",
       "</table>\n",
       "</div>"
      ],
      "text/plain": [
       "                                                text  word_count\n",
       "0                                                 \\n           0\n",
       "1                                            April\\n           1\n",
       "2                                                 \\n           0\n",
       "3  April (Apr.) is the fourth month of the year i...          31\n",
       "4                                                 \\n           0"
      ]
     },
     "execution_count": 4,
     "metadata": {},
     "output_type": "execute_result"
    }
   ],
   "source": [
    "### Store data in a dataframe\n",
    "all_data_df = pd.DataFrame(data=all_data, columns=[\"text\"])  # Create df\n",
    "all_data_df[\"word_count\"] = all_data_df[\"text\"].apply(lambda x: len(x.split()))  # Get word counts per line\n",
    "all_data_df.head()"
   ]
  },
  {
   "cell_type": "code",
   "execution_count": 5,
   "id": "b265cf54-cb7c-4b28-9ab2-110bd91d6ca0",
   "metadata": {},
   "outputs": [
    {
     "data": {
      "image/png": "[encoded data removed]",
      "text/plain": [
       "<Figure size 1000x700 with 1 Axes>"
      ]
     },
     "metadata": {},
     "output_type": "display_data"
    }
   ],
   "source": [
    "### Plot a histogram w/word_count\n",
    "def plot_word_count(df: pd.DataFrame):\n",
    "    \"\"\"\n",
    "    Plots a histogram wrt the word_count col in df.\n",
    "\n",
    "    Args:\n",
    "        df: DataFrame instance with \"word_count\" col\n",
    "    \"\"\"\n",
    "    import matplotlib.pyplot as plt\n",
    "    plt.figure(figsize=(10, 7))\n",
    "    plt.hist(df[\"word_count\"], bins=100, edgecolor='black', alpha=0.7,)\n",
    "    plt.title(\"Word count frequency\")\n",
    "    plt.xlabel(\"word_count\")\n",
    "    plt.ylabel(\"Frequency\")\n",
    "    plt.grid(axis='y', linestyle='--', alpha=0.7)\n",
    "    plt.show();\n",
    "\n",
    "plot_word_count(all_data_df)"
   ]
  },
  {
   "cell_type": "markdown",
   "id": "818aa461-9bc7-4382-809d-5de1771484df",
   "metadata": {},
   "source": [
    "There are many lines that have word_count = 0.\\\n",
    "All of these lines have the string \"\\n\".\\\n",
    "We will be removing most of these lines, by keeping the lines with word_count = 0 when the next line has a non-zero word_count.\\\n",
    "<br>\n",
    "We are keeping some empty lines, since the model will have to learn when to add an extra/empty line to seperate text outputs."
   ]
  },
  {
   "cell_type": "markdown",
   "id": "28e7ab87-8457-42dd-8575-63eb9a12ca1f",
   "metadata": {
    "jp-MarkdownHeadingCollapsed": true
   },
   "source": [
    "### Filtering new-lines"
   ]
  },
  {
   "cell_type": "code",
   "execution_count": 6,
   "id": "99c2bc7d-9a4b-40b0-8052-a29086145e21",
   "metadata": {},
   "outputs": [],
   "source": [
    "def filter_empty_lines(df: pd.DataFrame):\n",
    "    \"\"\"\n",
    "    Filters out most of the lines with an empty line in the df.\n",
    "    Keeps all the empty lines if next line is non-empty.\n",
    "\n",
    "    Args:\n",
    "        df: DataFrame instance with the \"line\" and \"word_count\" columns\n",
    "    Returns:\n",
    "        Filtered df.\n",
    "    \"\"\"\n",
    "    filtered_idx = []\n",
    "    prev_non_zero = False\n",
    "    len_df = len(df)\n",
    "\n",
    "    for i in range(len_df):\n",
    "        if df.loc[i, \"word_count\"] == 0:\n",
    "            if not prev_non_zero and i+1<len_df and df.loc[i+1, \"word_count\"] > 0:\n",
    "                filtered_idx.append(i)\n",
    "            prev_non_zero = False\n",
    "        else:\n",
    "            filtered_idx.append(i)\n",
    "            prev_non_zero = True\n",
    "        \n",
    "    return df.loc[filtered_idx]\n",
    "\n",
    "def filter_empty_lines_for_paragraphs(df):\n",
    "    \"\"\"\n",
    "    Removes unnecessary empty lines (word_count == 0).\n",
    "    While preserving those between paragraphs (separating sequences of non-zero word count lines).\n",
    "\n",
    "    Args:\n",
    "        df: DataFrame with a 'word_count' column.\n",
    "\n",
    "    Returns:\n",
    "        Filtered df.\n",
    "    \"\"\"\n",
    "    filtered_indices = []\n",
    "    len_df = len(df)\n",
    "    \n",
    "    for i in range(len_df):\n",
    "        if df.loc[i, 'word_count'] == 0:\n",
    "            if (i > 0 and df.loc[i - 1, 'word_count'] > 0) and \\\n",
    "               (i + 1 < len_df and df.loc[i + 1, 'word_count'] > 0):\n",
    "                filtered_indices.append(i)\n",
    "        else:\n",
    "            filtered_indices.append(i)\n",
    "    \n",
    "    return df.loc[filtered_indices].reset_index(drop=True)\n"
   ]
  },
  {
   "cell_type": "code",
   "execution_count": 7,
   "id": "400f3b5c-0e70-45d9-8434-091d7e63ade6",
   "metadata": {},
   "outputs": [
    {
     "data": {
      "text/html": [
       "<div>\n",
       "<style scoped>\n",
       "    .dataframe tbody tr th:only-of-type {\n",
       "        vertical-align: middle;\n",
       "    }\n",
       "\n",
       "    .dataframe tbody tr th {\n",
       "        vertical-align: top;\n",
       "    }\n",
       "\n",
       "    .dataframe thead th {\n",
       "        text-align: right;\n",
       "    }\n",
       "</style>\n",
       "<table border=\"1\" class=\"dataframe\">\n",
       "  <thead>\n",
       "    <tr style=\"text-align: right;\">\n",
       "      <th></th>\n",
       "      <th>text</th>\n",
       "      <th>word_count</th>\n",
       "    </tr>\n",
       "  </thead>\n",
       "  <tbody>\n",
       "    <tr>\n",
       "      <th>0</th>\n",
       "      <td>April\\n</td>\n",
       "      <td>1</td>\n",
       "    </tr>\n",
       "    <tr>\n",
       "      <th>1</th>\n",
       "      <td>\\n</td>\n",
       "      <td>0</td>\n",
       "    </tr>\n",
       "    <tr>\n",
       "      <th>2</th>\n",
       "      <td>April (Apr.) is the fourth month of the year i...</td>\n",
       "      <td>31</td>\n",
       "    </tr>\n",
       "    <tr>\n",
       "      <th>3</th>\n",
       "      <td>\\n</td>\n",
       "      <td>0</td>\n",
       "    </tr>\n",
       "    <tr>\n",
       "      <th>4</th>\n",
       "      <td>April always begins on the same day of the wee...</td>\n",
       "      <td>30</td>\n",
       "    </tr>\n",
       "    <tr>\n",
       "      <th>5</th>\n",
       "      <td>\\n</td>\n",
       "      <td>0</td>\n",
       "    </tr>\n",
       "    <tr>\n",
       "      <th>6</th>\n",
       "      <td>April comes between March and May, making it t...</td>\n",
       "      <td>40</td>\n",
       "    </tr>\n",
       "    <tr>\n",
       "      <th>7</th>\n",
       "      <td>\\n</td>\n",
       "      <td>0</td>\n",
       "    </tr>\n",
       "    <tr>\n",
       "      <th>8</th>\n",
       "      <td>April begins on the same day of the week as Ju...</td>\n",
       "      <td>51</td>\n",
       "    </tr>\n",
       "    <tr>\n",
       "      <th>9</th>\n",
       "      <td>\\n</td>\n",
       "      <td>0</td>\n",
       "    </tr>\n",
       "  </tbody>\n",
       "</table>\n",
       "</div>"
      ],
      "text/plain": [
       "                                                text  word_count\n",
       "0                                            April\\n           1\n",
       "1                                                 \\n           0\n",
       "2  April (Apr.) is the fourth month of the year i...          31\n",
       "3                                                 \\n           0\n",
       "4  April always begins on the same day of the wee...          30\n",
       "5                                                 \\n           0\n",
       "6  April comes between March and May, making it t...          40\n",
       "7                                                 \\n           0\n",
       "8  April begins on the same day of the week as Ju...          51\n",
       "9                                                 \\n           0"
      ]
     },
     "execution_count": 7,
     "metadata": {},
     "output_type": "execute_result"
    }
   ],
   "source": [
    "#all_data_df_filtered = filter_empty_lines(all_data_df)\n",
    "all_data_df_filtered = filter_empty_lines_for_paragraphs(all_data_df)\n",
    "all_data_df_filtered.head(10)"
   ]
  },
  {
   "cell_type": "code",
   "execution_count": 8,
   "id": "e232d692-daa0-4f0a-a71e-9f8e70635500",
   "metadata": {},
   "outputs": [
    {
     "data": {
      "image/png": "[encoded data removed]",
      "text/plain": [
       "<Figure size 1000x700 with 1 Axes>"
      ]
     },
     "metadata": {},
     "output_type": "display_data"
    }
   ],
   "source": [
    "plot_word_count(all_data_df_filtered)"
   ]
  },
  {
   "cell_type": "code",
   "execution_count": 9,
   "id": "84dfc05c-92fe-412b-ab87-3fd25a0fcb88",
   "metadata": {},
   "outputs": [
    {
     "data": {
      "text/html": [
       "<div>\n",
       "<style scoped>\n",
       "    .dataframe tbody tr th:only-of-type {\n",
       "        vertical-align: middle;\n",
       "    }\n",
       "\n",
       "    .dataframe tbody tr th {\n",
       "        vertical-align: top;\n",
       "    }\n",
       "\n",
       "    .dataframe thead th {\n",
       "        text-align: right;\n",
       "    }\n",
       "</style>\n",
       "<table border=\"1\" class=\"dataframe\">\n",
       "  <thead>\n",
       "    <tr style=\"text-align: right;\">\n",
       "      <th></th>\n",
       "      <th>text</th>\n",
       "      <th>word_count</th>\n",
       "    </tr>\n",
       "  </thead>\n",
       "  <tbody>\n",
       "    <tr>\n",
       "      <th>340380</th>\n",
       "      <td>In English culture, the Phoenix is ​​a mythica...</td>\n",
       "      <td>659</td>\n",
       "    </tr>\n",
       "    <tr>\n",
       "      <th>340410</th>\n",
       "      <td>Phoenix Short Story by Sylvia Town Sand Warner...</td>\n",
       "      <td>718</td>\n",
       "    </tr>\n",
       "    <tr>\n",
       "      <th>704121</th>\n",
       "      <td>Hershel tells Rick and his group that they hav...</td>\n",
       "      <td>636</td>\n",
       "    </tr>\n",
       "    <tr>\n",
       "      <th>1214309</th>\n",
       "      <td>Contreras first joined the UDP in 1997 when he...</td>\n",
       "      <td>654</td>\n",
       "    </tr>\n",
       "    <tr>\n",
       "      <th>1229308</th>\n",
       "      <td>Willis Seward Keith has graduated Princeton Un...</td>\n",
       "      <td>646</td>\n",
       "    </tr>\n",
       "    <tr>\n",
       "      <th>1410423</th>\n",
       "      <td>Hayainu's mother had died when Hayainu was a y...</td>\n",
       "      <td>679</td>\n",
       "    </tr>\n",
       "    <tr>\n",
       "      <th>1487861</th>\n",
       "      <td>Once there lived a widowed lady with her three...</td>\n",
       "      <td>647</td>\n",
       "    </tr>\n",
       "    <tr>\n",
       "      <th>1559111</th>\n",
       "      <td>On a Swedish country farm, a cat gives birth t...</td>\n",
       "      <td>611</td>\n",
       "    </tr>\n",
       "    <tr>\n",
       "      <th>1804461</th>\n",
       "      <td>In Chuacers The Canterbury Tales the 3rd Tale ...</td>\n",
       "      <td>625</td>\n",
       "    </tr>\n",
       "  </tbody>\n",
       "</table>\n",
       "</div>"
      ],
      "text/plain": [
       "                                                      text  word_count\n",
       "340380   In English culture, the Phoenix is ​​a mythica...         659\n",
       "340410   Phoenix Short Story by Sylvia Town Sand Warner...         718\n",
       "704121   Hershel tells Rick and his group that they hav...         636\n",
       "1214309  Contreras first joined the UDP in 1997 when he...         654\n",
       "1229308  Willis Seward Keith has graduated Princeton Un...         646\n",
       "1410423  Hayainu's mother had died when Hayainu was a y...         679\n",
       "1487861  Once there lived a widowed lady with her three...         647\n",
       "1559111  On a Swedish country farm, a cat gives birth t...         611\n",
       "1804461  In Chuacers The Canterbury Tales the 3rd Tale ...         625"
      ]
     },
     "execution_count": 9,
     "metadata": {},
     "output_type": "execute_result"
    }
   ],
   "source": [
    "all_data_df_filtered[all_data_df_filtered[\"word_count\"] > 600]"
   ]
  },
  {
   "cell_type": "code",
   "execution_count": 10,
   "id": "fa925259-07a4-4064-bedc-c37626e766b4",
   "metadata": {},
   "outputs": [
    {
     "data": {
      "text/html": [
       "<div>\n",
       "<style scoped>\n",
       "    .dataframe tbody tr th:only-of-type {\n",
       "        vertical-align: middle;\n",
       "    }\n",
       "\n",
       "    .dataframe tbody tr th {\n",
       "        vertical-align: top;\n",
       "    }\n",
       "\n",
       "    .dataframe thead th {\n",
       "        text-align: right;\n",
       "    }\n",
       "</style>\n",
       "<table border=\"1\" class=\"dataframe\">\n",
       "  <thead>\n",
       "    <tr style=\"text-align: right;\">\n",
       "      <th></th>\n",
       "      <th>text</th>\n",
       "      <th>word_count</th>\n",
       "    </tr>\n",
       "  </thead>\n",
       "  <tbody>\n",
       "    <tr>\n",
       "      <th>910749</th>\n",
       "      <td>\\n</td>\n",
       "      <td>0</td>\n",
       "    </tr>\n",
       "    <tr>\n",
       "      <th>578780</th>\n",
       "      <td>\\n</td>\n",
       "      <td>0</td>\n",
       "    </tr>\n",
       "    <tr>\n",
       "      <th>1201032</th>\n",
       "      <td>\\n</td>\n",
       "      <td>0</td>\n",
       "    </tr>\n",
       "    <tr>\n",
       "      <th>578782</th>\n",
       "      <td>\\n</td>\n",
       "      <td>0</td>\n",
       "    </tr>\n",
       "    <tr>\n",
       "      <th>1201029</th>\n",
       "      <td>\\n</td>\n",
       "      <td>0</td>\n",
       "    </tr>\n",
       "    <tr>\n",
       "      <th>...</th>\n",
       "      <td>...</td>\n",
       "      <td>...</td>\n",
       "    </tr>\n",
       "    <tr>\n",
       "      <th>1487861</th>\n",
       "      <td>Once there lived a widowed lady with her three...</td>\n",
       "      <td>647</td>\n",
       "    </tr>\n",
       "    <tr>\n",
       "      <th>1214309</th>\n",
       "      <td>Contreras first joined the UDP in 1997 when he...</td>\n",
       "      <td>654</td>\n",
       "    </tr>\n",
       "    <tr>\n",
       "      <th>340380</th>\n",
       "      <td>In English culture, the Phoenix is ​​a mythica...</td>\n",
       "      <td>659</td>\n",
       "    </tr>\n",
       "    <tr>\n",
       "      <th>1410423</th>\n",
       "      <td>Hayainu's mother had died when Hayainu was a y...</td>\n",
       "      <td>679</td>\n",
       "    </tr>\n",
       "    <tr>\n",
       "      <th>340410</th>\n",
       "      <td>Phoenix Short Story by Sylvia Town Sand Warner...</td>\n",
       "      <td>718</td>\n",
       "    </tr>\n",
       "  </tbody>\n",
       "</table>\n",
       "<p>1821500 rows × 2 columns</p>\n",
       "</div>"
      ],
      "text/plain": [
       "                                                      text  word_count\n",
       "910749                                                  \\n           0\n",
       "578780                                                  \\n           0\n",
       "1201032                                                 \\n           0\n",
       "578782                                                  \\n           0\n",
       "1201029                                                 \\n           0\n",
       "...                                                    ...         ...\n",
       "1487861  Once there lived a widowed lady with her three...         647\n",
       "1214309  Contreras first joined the UDP in 1997 when he...         654\n",
       "340380   In English culture, the Phoenix is ​​a mythica...         659\n",
       "1410423  Hayainu's mother had died when Hayainu was a y...         679\n",
       "340410   Phoenix Short Story by Sylvia Town Sand Warner...         718\n",
       "\n",
       "[1821500 rows x 2 columns]"
      ]
     },
     "execution_count": 10,
     "metadata": {},
     "output_type": "execute_result"
    }
   ],
   "source": [
    "all_data_df_filtered.sort_values(by=\"word_count\", ascending=True, inplace=False)"
   ]
  },
  {
   "cell_type": "code",
   "execution_count": 11,
   "id": "5eb5cf94-b08f-4671-879f-93070e291907",
   "metadata": {},
   "outputs": [
    {
     "name": "stdout",
     "output_type": "stream",
     "text": [
      "Number of lines filtered (deleted): 231199\n"
     ]
    }
   ],
   "source": [
    "len_all_data = len(all_data_df)\n",
    "len_new_line_filtered = len(all_data_df_filtered)\n",
    "print(f\"Number of lines filtered (deleted): {len_all_data - len_new_line_filtered}\")"
   ]
  },
  {
   "cell_type": "markdown",
   "id": "969f2ec2-095e-4fdb-a523-fec2a6f35839",
   "metadata": {},
   "source": [
    "### General preprocessing"
   ]
  },
  {
   "cell_type": "markdown",
   "id": "b26c432b-7ac1-4202-9a5d-ce2e0cb32a52",
   "metadata": {},
   "source": [
    "Go to `scripts/english_lang_preprocessing.py` for the code.\\\n",
    "Go to `datasets/preprocessing/english_lang.txt` for the output of the above script.\n",
    "<br></br>\n",
    "***Note***: running this code as a .py script, since multiprocessing.Pool needs to be defined at the top of the file and may not work well in a jupyter env. sooo... yeah."
   ]
  },
  {
   "cell_type": "code",
   "execution_count": 56,
   "id": "aa7ab785-2703-47ce-bf1a-bd42167d1240",
   "metadata": {},
   "outputs": [],
   "source": [
    "### Saving the current dataset as a .txt file\n",
    "# Get path\n",
    "from pathlib import Path\n",
    "current_dir = Path(current_dir)\n",
    "save_dir = current_dir.parent / \"datasets\" / \"preprocessing\"\n",
    "\n",
    "# Create dir if not already\n",
    "os.makedirs(save_dir, exist_ok=True)\n",
    "\n",
    "# Save to path\n",
    "all_data_df_filtered.to_csv(save_dir / \"empty_lines_filtered.csv\", encoding=\"utf-8\")#, index=False)"
   ]
  },
  {
   "cell_type": "code",
   "execution_count": null,
   "id": "52d1c5b1-5bcc-463e-a4ae-8c0fb4b67fce",
   "metadata": {},
   "outputs": [],
   "source": [
    "#### Code for the script\n",
    "\n",
    "### Language detection\n",
    "from langdetect import detect, LangDetectException\n",
    "from multiprocessing import Pool\n",
    "from pathlib import Path\n",
    "import pandas as pd\n",
    "import numpy as np\n",
    "import re\n",
    "import os\n",
    "\n",
    "def is_valid_line(line: str) -> bool:\n",
    "    \"\"\"\n",
    "    Quickly checks if the line is valid without detecting the language.\n",
    "\n",
    "    Args:\n",
    "        line: line to check on\n",
    "    Returns:\n",
    "        True if line is valid\n",
    "        False if otherwise\n",
    "        None if more processing is requeried\n",
    "    \"\"\"\n",
    "    line = line.strip()\n",
    "    if not line:\n",
    "        return False\n",
    "    if re.fullmatch(r\"[\\d\\s\\W]+\", line):\n",
    "        return True\n",
    "    return None\n",
    "\n",
    "def detect_line(line: str) -> bool:\n",
    "    \"\"\"\n",
    "    Detects if a line contains only English words, keeping numerical data and symbols.\n",
    "\n",
    "    Args:\n",
    "        line: single line to check\n",
    "    Returns:\n",
    "        bool, True if line belongs to english, else False\n",
    "    \"\"\" \n",
    "    if (result := is_valid_line(line)) is not None:\n",
    "        return result\n",
    "    try:\n",
    "        return detect(line) == \"en\"\n",
    "    except LangDetectException as e:\n",
    "        print(f\"[ERROR] Unable to detect language for line:\\n'{line}'\\nError: {e}\\n\")\n",
    "        return False\n",
    "    except Exception as e:\n",
    "        print(f\"[ERROR] Unexpected error for line:\\n'{line}'\\nError: {e}\\n\")\n",
    "        return False\n",
    "\n",
    "def process_chunk(chunk):\n",
    "    \"\"\"\n",
    "    Process a chunk of the DataFrame for English lines\n",
    "    \"\"\"\n",
    "    return chunk[chunk[\"text\"].apply(detect_line)]\n",
    "\n",
    "def main():\n",
    "    ### Load data\n",
    "    # Setup path to get data\n",
    "    current_dir = os.getcwd()\n",
    "    current_dir = Path(current_dir)\n",
    "    data_dir = current_dir / \"datasets\" / \"preprocessing\" / \"empty_lines_filtered.csv\"\n",
    "    # Load data into df\n",
    "    all_data_df_filtered = pd.read_csv(data_dir)\n",
    "\n",
    "    ### Get all valid lines (using multiprocessing)\n",
    "    num_workers = os.cpu_count()\n",
    "    chunk_size = num_workers\n",
    "    chunks = np.array_split(all_data_df_filtered, chunk_size)\n",
    "\n",
    "    with Pool(processes=chunk_size) as pool:\n",
    "        results = pool.map(process_chunk, chunks)\n",
    "\n",
    "    # Store into df\n",
    "    english_data_df = pd.concat(results, ignore_index=True)\n",
    "    # Save df to path\n",
    "    output_dir = current_dir / \"datasets\" / \"preprocessing\"\n",
    "    output_dir.mkdir(parents=True, exist_ok=True)\n",
    "    output_file = output_dir / \"english_lang.csv\"\n",
    "    english_data_df.to_csv(output_file, encoding=\"utf-8\")\n",
    "    print(f\"Preprocessed and saved to: {output_file}\")\n",
    "\n",
    "if __name__ == \"__main__\":\n",
    "    main()"
   ]
  },
  {
   "cell_type": "code",
   "execution_count": 63,
   "id": "7cb1ccde-8fdd-4e27-9d8a-0ed64ac15a3a",
   "metadata": {},
   "outputs": [
    {
     "data": {
      "text/html": [
       "<div>\n",
       "<style scoped>\n",
       "    .dataframe tbody tr th:only-of-type {\n",
       "        vertical-align: middle;\n",
       "    }\n",
       "\n",
       "    .dataframe tbody tr th {\n",
       "        vertical-align: top;\n",
       "    }\n",
       "\n",
       "    .dataframe thead th {\n",
       "        text-align: right;\n",
       "    }\n",
       "</style>\n",
       "<table border=\"1\" class=\"dataframe\">\n",
       "  <thead>\n",
       "    <tr style=\"text-align: right;\">\n",
       "      <th></th>\n",
       "      <th>text</th>\n",
       "      <th>word_count</th>\n",
       "    </tr>\n",
       "  </thead>\n",
       "  <tbody>\n",
       "    <tr>\n",
       "      <th>0</th>\n",
       "      <td>April (Apr.) is the fourth month of the year i...</td>\n",
       "      <td>31</td>\n",
       "    </tr>\n",
       "    <tr>\n",
       "      <th>1</th>\n",
       "      <td>April always begins on the same day of the wee...</td>\n",
       "      <td>30</td>\n",
       "    </tr>\n",
       "    <tr>\n",
       "      <th>2</th>\n",
       "      <td>April comes between March and May, making it t...</td>\n",
       "      <td>40</td>\n",
       "    </tr>\n",
       "    <tr>\n",
       "      <th>3</th>\n",
       "      <td>April begins on the same day of the week as Ju...</td>\n",
       "      <td>51</td>\n",
       "    </tr>\n",
       "    <tr>\n",
       "      <th>4</th>\n",
       "      <td>In common years, April starts on the same day ...</td>\n",
       "      <td>103</td>\n",
       "    </tr>\n",
       "  </tbody>\n",
       "</table>\n",
       "</div>"
      ],
      "text/plain": [
       "                                                text  word_count\n",
       "0  April (Apr.) is the fourth month of the year i...          31\n",
       "1  April always begins on the same day of the wee...          30\n",
       "2  April comes between March and May, making it t...          40\n",
       "3  April begins on the same day of the week as Ju...          51\n",
       "4  In common years, April starts on the same day ...         103"
      ]
     },
     "execution_count": 63,
     "metadata": {},
     "output_type": "execute_result"
    }
   ],
   "source": [
    "### Loading preprocessed data\n",
    "load_dir = current_dir.parent / \"datasets\" / \"preprocessing\" / \"english_lang.csv\"\n",
    "english_data_df = pd.read_csv(load_dir)\n",
    "english_data_df.drop([\"Unnamed: 0.1\", \"Unnamed: 0\"], axis=1, inplace=True)\n",
    "english_data_df.head()"
   ]
  },
  {
   "cell_type": "code",
   "execution_count": 64,
   "id": "2fc996ee-76e9-4476-9299-3932b344f268",
   "metadata": {},
   "outputs": [
    {
     "data": {
      "text/plain": [
       "795271"
      ]
     },
     "execution_count": 64,
     "metadata": {},
     "output_type": "execute_result"
    }
   ],
   "source": [
    "len(english_data_df)"
   ]
  },
  {
   "cell_type": "code",
   "execution_count": 65,
   "id": "9912315d-d1a6-4903-8bb4-cabfdbbf4050",
   "metadata": {},
   "outputs": [
    {
     "data": {
      "text/html": [
       "<div>\n",
       "<style scoped>\n",
       "    .dataframe tbody tr th:only-of-type {\n",
       "        vertical-align: middle;\n",
       "    }\n",
       "\n",
       "    .dataframe tbody tr th {\n",
       "        vertical-align: top;\n",
       "    }\n",
       "\n",
       "    .dataframe thead th {\n",
       "        text-align: right;\n",
       "    }\n",
       "</style>\n",
       "<table border=\"1\" class=\"dataframe\">\n",
       "  <thead>\n",
       "    <tr style=\"text-align: right;\">\n",
       "      <th></th>\n",
       "      <th>text</th>\n",
       "      <th>word_count</th>\n",
       "    </tr>\n",
       "  </thead>\n",
       "  <tbody>\n",
       "    <tr>\n",
       "      <th>197530</th>\n",
       "      <td>150||49\\n</td>\n",
       "      <td>1</td>\n",
       "    </tr>\n",
       "    <tr>\n",
       "      <th>620000</th>\n",
       "      <td>Sexology\\n</td>\n",
       "      <td>1</td>\n",
       "    </tr>\n",
       "    <tr>\n",
       "      <th>162985</th>\n",
       "      <td>Subsidiarity\\n</td>\n",
       "      <td>1</td>\n",
       "    </tr>\n",
       "    <tr>\n",
       "      <th>648733</th>\n",
       "      <td>Tincourt-Boucly\\n</td>\n",
       "      <td>1</td>\n",
       "    </tr>\n",
       "    <tr>\n",
       "      <th>72076</th>\n",
       "      <td>100s\\n</td>\n",
       "      <td>1</td>\n",
       "    </tr>\n",
       "    <tr>\n",
       "      <th>...</th>\n",
       "      <td>...</td>\n",
       "      <td>...</td>\n",
       "    </tr>\n",
       "    <tr>\n",
       "      <th>657842</th>\n",
       "      <td>Once there lived a widowed lady with her three...</td>\n",
       "      <td>647</td>\n",
       "    </tr>\n",
       "    <tr>\n",
       "      <th>545083</th>\n",
       "      <td>Contreras first joined the UDP in 1997 when he...</td>\n",
       "      <td>654</td>\n",
       "    </tr>\n",
       "    <tr>\n",
       "      <th>161055</th>\n",
       "      <td>In English culture, the Phoenix is ​​a mythica...</td>\n",
       "      <td>659</td>\n",
       "    </tr>\n",
       "    <tr>\n",
       "      <th>626952</th>\n",
       "      <td>Hayainu's mother had died when Hayainu was a y...</td>\n",
       "      <td>679</td>\n",
       "    </tr>\n",
       "    <tr>\n",
       "      <th>161070</th>\n",
       "      <td>Phoenix Short Story by Sylvia Town Sand Warner...</td>\n",
       "      <td>718</td>\n",
       "    </tr>\n",
       "  </tbody>\n",
       "</table>\n",
       "<p>795271 rows × 2 columns</p>\n",
       "</div>"
      ],
      "text/plain": [
       "                                                     text  word_count\n",
       "197530                                          150||49\\n           1\n",
       "620000                                         Sexology\\n           1\n",
       "162985                                     Subsidiarity\\n           1\n",
       "648733                                  Tincourt-Boucly\\n           1\n",
       "72076                                              100s\\n           1\n",
       "...                                                   ...         ...\n",
       "657842  Once there lived a widowed lady with her three...         647\n",
       "545083  Contreras first joined the UDP in 1997 when he...         654\n",
       "161055  In English culture, the Phoenix is ​​a mythica...         659\n",
       "626952  Hayainu's mother had died when Hayainu was a y...         679\n",
       "161070  Phoenix Short Story by Sylvia Town Sand Warner...         718\n",
       "\n",
       "[795271 rows x 2 columns]"
      ]
     },
     "execution_count": 65,
     "metadata": {},
     "output_type": "execute_result"
    }
   ],
   "source": [
    "english_data_df.sort_values(by=[\"word_count\"], ascending=True, inplace=False)"
   ]
  },
  {
   "cell_type": "code",
   "execution_count": 68,
   "id": "268d0486-f224-4f4e-bc3b-a5d498ccfe9d",
   "metadata": {},
   "outputs": [
    {
     "name": "stdout",
     "output_type": "stream",
     "text": [
      "Number of rows deleted (wrt prev filter):\t1026229\n",
      "Number of rows deleted (wrt all data):\t\t1257428\n"
     ]
    }
   ],
   "source": [
    "len_english_lang_filtered = len(english_data_df)\n",
    "print(f\"Number of rows deleted (wrt prev filter):\\t{len_new_line_filtered - len_english_lang_filtered}\")\n",
    "print(f\"Number of rows deleted (wrt all data):\\t\\t{len_all_data - len_english_lang_filtered}\")"
   ]
  },
  {
   "cell_type": "markdown",
   "id": "5563797a-c9ab-4797-8e1c-140695168acc",
   "metadata": {},
   "source": [
    "There is a problem with the current state of the filtered data...\\\n",
    "All the **\"\\n\" (empty lines)** lines/entries have been droped duing filteration for the English language.\\\n",
    "This will cause a problem in the future, during model-evaluation, as the model's outputs may not be desireable for the user.\\\n",
    "However, I will be changing the preprocessing approach in a future revision. Since the cost of running the preprocessing script is high (load my laptop a bit too much).\n",
    "<br></br>\n",
    "But for the most part, this looks fine for now"
   ]
  },
  {
   "cell_type": "code",
   "execution_count": null,
   "id": "9b5efa0f-e270-46b1-988d-18503431e068",
   "metadata": {},
   "outputs": [],
   "source": []
  },
  {
   "cell_type": "code",
   "execution_count": null,
   "id": "81ec471f-54f6-45ba-9b54-0ec6472ad6bf",
   "metadata": {},
   "outputs": [],
   "source": []
  },
  {
   "cell_type": "code",
   "execution_count": null,
   "id": "a8d850ee-360e-4ae6-abe9-44367b0611a3",
   "metadata": {},
   "outputs": [],
   "source": []
  },
  {
   "cell_type": "code",
   "execution_count": null,
   "id": "0VF58ELi6xAb",
   "metadata": {
    "id": "0VF58ELi6xAb"
   },
   "outputs": [],
   "source": []
  }
 ],
 "metadata": {
  "colab": {
   "provenance": []
  },
  "kernelspec": {
   "display_name": "Python (torch_kernel)",
   "language": "python",
   "name": "torch_kernel"
  },
  "language_info": {
   "codemirror_mode": {
    "name": "ipython",
    "version": 3
   },
   "file_extension": ".py",
   "mimetype": "text/x-python",
   "name": "python",
   "nbconvert_exporter": "python",
   "pygments_lexer": "ipython3",
   "version": "3.8.20"
  }
 },
 "nbformat": 4,
 "nbformat_minor": 5
}
