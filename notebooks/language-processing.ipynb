{
 "cells": [
  {
   "cell_type": "markdown",
   "id": "f4ed7b70-84b1-4308-8fa2-27c17bea9108",
   "metadata": {},
   "source": [
    "Currently the preprocessing lead to 600k words for the model's vocab size.\\\n",
    "The goal of this notebook is to somehow make that number as small as possible.\\\n",
    "Since the english lanuage has 120k or-so words, the final number must be somewhere close to 120-150k which includes some special words that are not in the eng-dicrtionary but a part of the wikipedia dataset."
   ]
  },
  {
   "cell_type": "code",
   "execution_count": 2,
   "id": "abab4384-cd91-49d7-9d21-e7dbca0c48ed",
   "metadata": {},
   "outputs": [
    {
     "name": "stdout",
     "output_type": "stream",
     "text": [
      "2.3.0 | 0.18.0 | 2.0.2 | 2.2.3\n",
      "Device: mps\n"
     ]
    }
   ],
   "source": [
    "import torch\n",
    "import torchtext\n",
    "import numpy as np\n",
    "import pandas as pd\n",
    "import matplotlib.pyplot as plt\n",
    "\n",
    "print(torch.__version__, \"|\", torchtext.__version__, \"|\", np.__version__, \"|\", pd.__version__)\n",
    "device = torch.device(\"mps\" if torch.backends.mps.is_available() else \"cpu\")\n",
    "print(f\"Device: {device}\")"
   ]
  },
  {
   "cell_type": "code",
   "execution_count": null,
   "id": "a531b4a5-33dc-4823-b2a4-f1fa73ecbe39",
   "metadata": {},
   "outputs": [],
   "source": []
  }
 ],
 "metadata": {
  "kernelspec": {
   "display_name": "Python 3 (ipykernel)",
   "language": "python",
   "name": "python3"
  },
  "language_info": {
   "codemirror_mode": {
    "name": "ipython",
    "version": 3
   },
   "file_extension": ".py",
   "mimetype": "text/x-python",
   "name": "python",
   "nbconvert_exporter": "python",
   "pygments_lexer": "ipython3",
   "version": "3.9.20"
  }
 },
 "nbformat": 4,
 "nbformat_minor": 5
}
